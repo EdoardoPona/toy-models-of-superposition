{
 "cells": [
  {
   "cell_type": "code",
   "execution_count": 8,
   "metadata": {},
   "outputs": [
    {
     "name": "stdout",
     "output_type": "stream",
     "text": [
      "The autoreload extension is already loaded. To reload it, use:\n",
      "  %reload_ext autoreload\n"
     ]
    }
   ],
   "source": [
    "%load_ext autoreload \n",
    "%autoreload 2"
   ]
  },
  {
   "cell_type": "code",
   "execution_count": 9,
   "metadata": {},
   "outputs": [
    {
     "data": {
      "application/vnd.jupyter.widget-view+json": {
       "model_id": "f78de1934a244b278619e963cbf2fc56",
       "version_major": 2,
       "version_minor": 0
      },
      "text/plain": [
       "  0%|          | 0/10000 [00:00<?, ?it/s]"
      ]
     },
     "metadata": {},
     "output_type": "display_data"
    },
    {
     "ename": "KeyboardInterrupt",
     "evalue": "",
     "output_type": "error",
     "traceback": [
      "\u001b[0;31m---------------------------------------------------------------------------\u001b[0m",
      "\u001b[0;31mKeyboardInterrupt\u001b[0m                         Traceback (most recent call last)",
      "Cell \u001b[0;32mIn[9], line 22\u001b[0m\n\u001b[1;32m      8\u001b[0m config \u001b[39m=\u001b[39m Config(\n\u001b[1;32m      9\u001b[0m     n_features \u001b[39m=\u001b[39m \u001b[39m5\u001b[39m,\n\u001b[1;32m     10\u001b[0m     n_hidden \u001b[39m=\u001b[39m \u001b[39m2\u001b[39m,\n\u001b[1;32m     11\u001b[0m     n_instances \u001b[39m=\u001b[39m \u001b[39m10\u001b[39m,\n\u001b[1;32m     12\u001b[0m )\n\u001b[1;32m     14\u001b[0m model \u001b[39m=\u001b[39m Model(\n\u001b[1;32m     15\u001b[0m     config\u001b[39m=\u001b[39mconfig,\n\u001b[1;32m     16\u001b[0m     device\u001b[39m=\u001b[39mDEVICE,\n\u001b[0;32m   (...)\u001b[0m\n\u001b[1;32m     20\u001b[0m     feature_probability \u001b[39m=\u001b[39m (\u001b[39m20\u001b[39m \u001b[39m*\u001b[39m\u001b[39m*\u001b[39m \u001b[39m-\u001b[39mtorch\u001b[39m.\u001b[39mlinspace(\u001b[39m0\u001b[39m, \u001b[39m1\u001b[39m, config\u001b[39m.\u001b[39mn_instances))[:, \u001b[39mNone\u001b[39;00m]\n\u001b[1;32m     21\u001b[0m )\n\u001b[0;32m---> 22\u001b[0m optimize(model, config)\n",
      "File \u001b[0;32m~/Documents/research/mech_interp/superposition/toy-models-of-superposition/toy_models_of_superposition/optimize.py:44\u001b[0m, in \u001b[0;36moptimize\u001b[0;34m(model, render, n_batch, steps, print_freq, lr, lr_scale, hooks)\u001b[0m\n\u001b[1;32m     42\u001b[0m loss \u001b[39m=\u001b[39m einops\u001b[39m.\u001b[39mreduce(error, \u001b[39m'\u001b[39m\u001b[39mb i f -> i\u001b[39m\u001b[39m'\u001b[39m, \u001b[39m'\u001b[39m\u001b[39mmean\u001b[39m\u001b[39m'\u001b[39m)\u001b[39m.\u001b[39msum() \u001b[39m+\u001b[39m cfg\u001b[39m.\u001b[39mhidden_l1\u001b[39m*\u001b[39mh1_l1\n\u001b[1;32m     43\u001b[0m loss\u001b[39m.\u001b[39mbackward()\n\u001b[0;32m---> 44\u001b[0m opt\u001b[39m.\u001b[39;49mstep()\n\u001b[1;32m     46\u001b[0m \u001b[39mif\u001b[39;00m hooks:\n\u001b[1;32m     47\u001b[0m   hook_data \u001b[39m=\u001b[39m \u001b[39mdict\u001b[39m(model\u001b[39m=\u001b[39mmodel,\n\u001b[1;32m     48\u001b[0m                    step\u001b[39m=\u001b[39mstep, \n\u001b[1;32m     49\u001b[0m                    opt\u001b[39m=\u001b[39mopt,\n\u001b[1;32m     50\u001b[0m                    error\u001b[39m=\u001b[39merror,\n\u001b[1;32m     51\u001b[0m                    loss\u001b[39m=\u001b[39mloss,\n\u001b[1;32m     52\u001b[0m                    lr\u001b[39m=\u001b[39mstep_lr)\n",
      "File \u001b[0;32m~/miniforge3/envs/pytorch/lib/python3.10/site-packages/torch/optim/optimizer.py:140\u001b[0m, in \u001b[0;36mOptimizer._hook_for_profile.<locals>.profile_hook_step.<locals>.wrapper\u001b[0;34m(*args, **kwargs)\u001b[0m\n\u001b[1;32m    138\u001b[0m profile_name \u001b[39m=\u001b[39m \u001b[39m\"\u001b[39m\u001b[39mOptimizer.step#\u001b[39m\u001b[39m{}\u001b[39;00m\u001b[39m.step\u001b[39m\u001b[39m\"\u001b[39m\u001b[39m.\u001b[39mformat(obj\u001b[39m.\u001b[39m\u001b[39m__class__\u001b[39m\u001b[39m.\u001b[39m\u001b[39m__name__\u001b[39m)\n\u001b[1;32m    139\u001b[0m \u001b[39mwith\u001b[39;00m torch\u001b[39m.\u001b[39mautograd\u001b[39m.\u001b[39mprofiler\u001b[39m.\u001b[39mrecord_function(profile_name):\n\u001b[0;32m--> 140\u001b[0m     out \u001b[39m=\u001b[39m func(\u001b[39m*\u001b[39;49margs, \u001b[39m*\u001b[39;49m\u001b[39m*\u001b[39;49mkwargs)\n\u001b[1;32m    141\u001b[0m     obj\u001b[39m.\u001b[39m_optimizer_step_code()\n\u001b[1;32m    142\u001b[0m     \u001b[39mreturn\u001b[39;00m out\n",
      "File \u001b[0;32m~/miniforge3/envs/pytorch/lib/python3.10/site-packages/torch/autograd/grad_mode.py:27\u001b[0m, in \u001b[0;36m_DecoratorContextManager.__call__.<locals>.decorate_context\u001b[0;34m(*args, **kwargs)\u001b[0m\n\u001b[1;32m     24\u001b[0m \u001b[39m@functools\u001b[39m\u001b[39m.\u001b[39mwraps(func)\n\u001b[1;32m     25\u001b[0m \u001b[39mdef\u001b[39;00m \u001b[39mdecorate_context\u001b[39m(\u001b[39m*\u001b[39margs, \u001b[39m*\u001b[39m\u001b[39m*\u001b[39mkwargs):\n\u001b[1;32m     26\u001b[0m     \u001b[39mwith\u001b[39;00m \u001b[39mself\u001b[39m\u001b[39m.\u001b[39mclone():\n\u001b[0;32m---> 27\u001b[0m         \u001b[39mreturn\u001b[39;00m func(\u001b[39m*\u001b[39;49margs, \u001b[39m*\u001b[39;49m\u001b[39m*\u001b[39;49mkwargs)\n",
      "File \u001b[0;32m~/miniforge3/envs/pytorch/lib/python3.10/site-packages/torch/optim/adamw.py:162\u001b[0m, in \u001b[0;36mAdamW.step\u001b[0;34m(self, closure)\u001b[0m\n\u001b[1;32m    158\u001b[0m             max_exp_avg_sqs\u001b[39m.\u001b[39mappend(state[\u001b[39m'\u001b[39m\u001b[39mmax_exp_avg_sq\u001b[39m\u001b[39m'\u001b[39m])\n\u001b[1;32m    160\u001b[0m         state_steps\u001b[39m.\u001b[39mappend(state[\u001b[39m'\u001b[39m\u001b[39mstep\u001b[39m\u001b[39m'\u001b[39m])\n\u001b[0;32m--> 162\u001b[0m     adamw(params_with_grad,\n\u001b[1;32m    163\u001b[0m           grads,\n\u001b[1;32m    164\u001b[0m           exp_avgs,\n\u001b[1;32m    165\u001b[0m           exp_avg_sqs,\n\u001b[1;32m    166\u001b[0m           max_exp_avg_sqs,\n\u001b[1;32m    167\u001b[0m           state_steps,\n\u001b[1;32m    168\u001b[0m           amsgrad\u001b[39m=\u001b[39;49mamsgrad,\n\u001b[1;32m    169\u001b[0m           beta1\u001b[39m=\u001b[39;49mbeta1,\n\u001b[1;32m    170\u001b[0m           beta2\u001b[39m=\u001b[39;49mbeta2,\n\u001b[1;32m    171\u001b[0m           lr\u001b[39m=\u001b[39;49mgroup[\u001b[39m'\u001b[39;49m\u001b[39mlr\u001b[39;49m\u001b[39m'\u001b[39;49m],\n\u001b[1;32m    172\u001b[0m           weight_decay\u001b[39m=\u001b[39;49mgroup[\u001b[39m'\u001b[39;49m\u001b[39mweight_decay\u001b[39;49m\u001b[39m'\u001b[39;49m],\n\u001b[1;32m    173\u001b[0m           eps\u001b[39m=\u001b[39;49mgroup[\u001b[39m'\u001b[39;49m\u001b[39meps\u001b[39;49m\u001b[39m'\u001b[39;49m],\n\u001b[1;32m    174\u001b[0m           maximize\u001b[39m=\u001b[39;49mgroup[\u001b[39m'\u001b[39;49m\u001b[39mmaximize\u001b[39;49m\u001b[39m'\u001b[39;49m],\n\u001b[1;32m    175\u001b[0m           foreach\u001b[39m=\u001b[39;49mgroup[\u001b[39m'\u001b[39;49m\u001b[39mforeach\u001b[39;49m\u001b[39m'\u001b[39;49m],\n\u001b[1;32m    176\u001b[0m           capturable\u001b[39m=\u001b[39;49mgroup[\u001b[39m'\u001b[39;49m\u001b[39mcapturable\u001b[39;49m\u001b[39m'\u001b[39;49m])\n\u001b[1;32m    178\u001b[0m \u001b[39mreturn\u001b[39;00m loss\n",
      "File \u001b[0;32m~/miniforge3/envs/pytorch/lib/python3.10/site-packages/torch/optim/adamw.py:219\u001b[0m, in \u001b[0;36madamw\u001b[0;34m(params, grads, exp_avgs, exp_avg_sqs, max_exp_avg_sqs, state_steps, foreach, capturable, amsgrad, beta1, beta2, lr, weight_decay, eps, maximize)\u001b[0m\n\u001b[1;32m    216\u001b[0m \u001b[39melse\u001b[39;00m:\n\u001b[1;32m    217\u001b[0m     func \u001b[39m=\u001b[39m _single_tensor_adamw\n\u001b[0;32m--> 219\u001b[0m func(params,\n\u001b[1;32m    220\u001b[0m      grads,\n\u001b[1;32m    221\u001b[0m      exp_avgs,\n\u001b[1;32m    222\u001b[0m      exp_avg_sqs,\n\u001b[1;32m    223\u001b[0m      max_exp_avg_sqs,\n\u001b[1;32m    224\u001b[0m      state_steps,\n\u001b[1;32m    225\u001b[0m      amsgrad\u001b[39m=\u001b[39;49mamsgrad,\n\u001b[1;32m    226\u001b[0m      beta1\u001b[39m=\u001b[39;49mbeta1,\n\u001b[1;32m    227\u001b[0m      beta2\u001b[39m=\u001b[39;49mbeta2,\n\u001b[1;32m    228\u001b[0m      lr\u001b[39m=\u001b[39;49mlr,\n\u001b[1;32m    229\u001b[0m      weight_decay\u001b[39m=\u001b[39;49mweight_decay,\n\u001b[1;32m    230\u001b[0m      eps\u001b[39m=\u001b[39;49meps,\n\u001b[1;32m    231\u001b[0m      maximize\u001b[39m=\u001b[39;49mmaximize,\n\u001b[1;32m    232\u001b[0m      capturable\u001b[39m=\u001b[39;49mcapturable)\n",
      "File \u001b[0;32m~/miniforge3/envs/pytorch/lib/python3.10/site-packages/torch/optim/adamw.py:318\u001b[0m, in \u001b[0;36m_single_tensor_adamw\u001b[0;34m(params, grads, exp_avgs, exp_avg_sqs, max_exp_avg_sqs, state_steps, amsgrad, beta1, beta2, lr, weight_decay, eps, maximize, capturable)\u001b[0m\n\u001b[1;32m    315\u001b[0m \u001b[39melse\u001b[39;00m:\n\u001b[1;32m    316\u001b[0m     denom \u001b[39m=\u001b[39m (exp_avg_sq\u001b[39m.\u001b[39msqrt() \u001b[39m/\u001b[39m bias_correction2_sqrt)\u001b[39m.\u001b[39madd_(eps)\n\u001b[0;32m--> 318\u001b[0m param\u001b[39m.\u001b[39;49maddcdiv_(exp_avg, denom, value\u001b[39m=\u001b[39;49m\u001b[39m-\u001b[39;49mstep_size)\n",
      "\u001b[0;31mKeyboardInterrupt\u001b[0m: "
     ]
    }
   ],
   "source": [
    "\n",
    "from toy_models_of_superposition.models import Model, Config\n",
    "from toy_models_of_superposition.optimize import optimize\t\n",
    "from toy_models_of_superposition.figures import plot_intro_diagram, render_features\n",
    "import torch\n",
    "\n",
    "DEVICE = 'cuda' if torch.cuda.is_available() else 'cpu'\n",
    "\n",
    "config = Config(\n",
    "    n_features = 5,\n",
    "    n_hidden = 2,\n",
    "    n_instances = 10,\n",
    ")\n",
    "\n",
    "model = Model(\n",
    "    config=config,\n",
    "    device=DEVICE,\n",
    "    # Exponential feature importance curve from 1 to 1/100\n",
    "    importance = (0.9**torch.arange(config.n_features))[None, :],\n",
    "    # Sweep feature frequency across the instances from 1 (fully dense) to 1/20\n",
    "    feature_probability = (20 ** -torch.linspace(0, 1, config.n_instances))[:, None]\n",
    ")\n",
    "optimize(model, config)"
   ]
  },
  {
   "cell_type": "code",
   "execution_count": 5,
   "metadata": {},
   "outputs": [
    {
     "data": {
      "image/png": "[encoded data removed]",
      "text/plain": [
       "<Figure size 4000x400 with 10 Axes>"
      ]
     },
     "metadata": {},
     "output_type": "display_data"
    }
   ],
   "source": [
    "plot_intro_diagram(model)"
   ]
  },
  {
   "cell_type": "code",
   "execution_count": 6,
   "metadata": {},
   "outputs": [
    {
     "data": {
      "application/vnd.plotly.v1+json": {
       "config": {
        "plotlyServerURL": "https://plot.ly"
       },
       "data": [
        {
         "marker": {
          "cmax": 1,
          "cmin": 0,
          "color": [
           0.006003314629197121,
           0.013051345013082027,
           0.9978821873664856,
           0.9994208216667175,
           0.9975502490997314
          ]
         },
         "type": "bar",
         "width": 0.9,
         "x": [
          0,
          1,
          2,
          3,
          4
         ],
         "xaxis": "x",
         "y": [
          0.9999086856842041,
          1.0002511739730835,
          0.004793105646967888,
          0.012881439179182053,
          0.004155468661338091
         ],
         "yaxis": "y"
        },
        {
         "colormodel": "rgba256",
         "customdata": [
          [
           0.9998173713684082,
           0.00033852458000183105,
           0.004748256877064705,
           -0.0019870689138770103,
           0.003070009872317314
          ],
          [
           0.00033852458000183105,
           1.0005024671554565,
           0.0006527692312374711,
           0.012729750946164131,
           -0.002799884881824255
          ],
          [
           0.004748256877064705,
           0.0006527692312374711,
           0.000022973859813646413,
           -0.000001151436663349159,
           0.000012756920114043169
          ],
          [
           -0.0019870689138770103,
           0.012729750946164131,
           -0.000001151436663349159,
           0.00016593147302046418,
           -0.00004174048444838263
          ],
          [
           0.003070009872317314,
           -0.002799884881824255,
           0.000012756920114043169,
           -0.00004174048444838263,
           0.00001726791924738791
          ]
         ],
         "hovertemplate": "\t\tIn: %{x}<br>\n\t\tOut: %{y}<br>\n\t\tWeight: %{customdata:0.2f}\n\t\t",
         "type": "image",
         "xaxis": "x2",
         "yaxis": "y2",
         "z": [
          [
           [
            179,
            3,
            38,
            255
           ],
           [
            221,
            220,
            219,
            255
           ],
           [
            221,
            220,
            219,
            255
           ],
           [
            220,
            220,
            221,
            255
           ],
           [
            221,
            220,
            219,
            255
           ]
          ],
          [
           [
            221,
            220,
            219,
            255
           ],
           [
            179,
            3,
            38,
            255
           ],
           [
            221,
            220,
            219,
            255
           ],
           [
            222,
            219,
            218,
            255
           ],
           [
            220,
            220,
            221,
            255
           ]
          ],
          [
           [
            221,
            220,
            219,
            255
           ],
           [
            221,
            220,
            219,
            255
           ],
           [
            221,
            220,
            219,
            255
           ],
           [
            220,
            220,
            221,
            255
           ],
           [
            221,
            220,
            219,
            255
           ]
          ],
          [
           [
            220,
            220,
            221,
            255
           ],
           [
            222,
            219,
            218,
            255
           ],
           [
            220,
            220,
            221,
            255
           ],
           [
            221,
            220,
            219,
            255
           ],
           [
            220,
            220,
            221,
            255
           ]
          ],
          [
           [
            221,
            220,
            219,
            255
           ],
           [
            220,
            220,
            221,
            255
           ],
           [
            221,
            220,
            219,
            255
           ],
           [
            220,
            220,
            221,
            255
           ],
           [
            221,
            220,
            219,
            255
           ]
          ]
         ]
        },
        {
         "marker": {
          "cmax": 1,
          "cmin": 0,
          "color": [
           0.018898578360676765,
           0.19549806416034698,
           1.0030218362808228,
           1.0211652517318726,
           1.0020328760147095
          ]
         },
         "type": "bar",
         "width": 0.9,
         "x": [
          0,
          1,
          2,
          3,
          4
         ],
         "xaxis": "x3",
         "y": [
          1.0005981922149658,
          1.0032284259796143,
          0.1957290768623352,
          0.013803325593471527,
          0.008951375260949135
         ],
         "yaxis": "y3"
        },
        {
         "colormodel": "rgba256",
         "customdata": [
          [
           1.0011968612670898,
           -0.0027164816856384277,
           0.01668255403637886,
           0.0011439886875450611,
           -0.008402101695537567
          ],
          [
           -0.0027164816856384277,
           1.006467342376709,
           0.19560131430625916,
           0.013797151856124401,
           0.0031337959226220846
          ],
          [
           0.01668255403637886,
           0.19560131430625916,
           0.03830987215042114,
           0.0027017048560082912,
           0.0004647487075999379
          ],
          [
           0.0011439886875450611,
           0.013797151856124401,
           0.0027017048560082912,
           0.00019053180585615337,
           0.000033056599932024255
          ],
          [
           -0.008402101695537567,
           0.0031337959226220846,
           0.0004647487075999379,
           0.000033056599932024255,
           0.00008012711623450741
          ]
         ],
         "hovertemplate": "\t\tIn: %{x}<br>\n\t\tOut: %{y}<br>\n\t\tWeight: %{customdata:0.2f}\n\t\t",
         "type": "image",
         "xaxis": "x4",
         "yaxis": "y4",
         "z": [
          [
           [
            179,
            3,
            38,
            255
           ],
           [
            220,
            220,
            221,
            255
           ],
           [
            223,
            219,
            217,
            255
           ],
           [
            221,
            220,
            219,
            255
           ],
           [
            219,
            220,
            222,
            255
           ]
          ],
          [
           [
            220,
            220,
            221,
            255
           ],
           [
            179,
            3,
            38,
            255
           ],
           [
            241,
            202,
            182,
            255
           ],
           [
            222,
            219,
            218,
            255
           ],
           [
            221,
            220,
            219,
            255
           ]
          ],
          [
           [
            223,
            219,
            217,
            255
           ],
           [
            241,
            202,
            182,
            255
           ],
           [
            225,
            218,
            214,
            255
           ],
           [
            221,
            220,
            219,
            255
           ],
           [
            221,
            220,
            219,
            255
           ]
          ],
          [
           [
            221,
            220,
            219,
            255
           ],
           [
            222,
            219,
            218,
            255
           ],
           [
            221,
            220,
            219,
            255
           ],
           [
            221,
            220,
            219,
            255
           ],
           [
            221,
            220,
            219,
            255
           ]
          ],
          [
           [
            219,
            220,
            222,
            255
           ],
           [
            221,
            220,
            219,
            255
           ],
           [
            221,
            220,
            219,
            255
           ],
           [
            221,
            220,
            219,
            255
           ],
           [
            221,
            220,
            219,
            255
           ]
          ]
         ]
        },
        {
         "marker": {
          "cmax": 1,
          "cmin": 0,
          "color": [
           0.15927784144878387,
           0.9443420171737671,
           0.9797452092170715,
           1.0249103307724,
           1.0131633281707764
          ]
         },
         "type": "bar",
         "width": 0.9,
         "x": [
          0,
          1,
          2,
          3,
          4
         ],
         "xaxis": "x5",
         "y": [
          1.0113599300384521,
          0.9797371029853821,
          0.9443254470825195,
          0.05354180932044983,
          0.150115504860878
         ],
         "yaxis": "y5"
        },
        {
         "colormodel": "rgba256",
         "customdata": [
          [
           1.0228488445281982,
           -0.003229886293411255,
           0.0005971789360046387,
           0.05394071340560913,
           -0.15175381302833557
          ],
          [
           -0.003229886293411255,
           0.959884762763977,
           -0.9251874685287476,
           0.004437627270817757,
           0.00484747439622879
          ],
          [
           0.0005971789360046387,
           -0.9251874685287476,
           0.8917505741119385,
           -0.004409937188029289,
           -0.004299011081457138
          ],
          [
           0.05394071340560913,
           0.004437627270817757,
           -0.004409937188029289,
           0.0028667254373431206,
           -0.007981883361935616
          ],
          [
           -0.15175381302833557,
           0.00484747439622879,
           -0.004299011081457138,
           -0.007981883361935616,
           0.02253466285765171
          ]
         ],
         "hovertemplate": "\t\tIn: %{x}<br>\n\t\tOut: %{y}<br>\n\t\tWeight: %{customdata:0.2f}\n\t\t",
         "type": "image",
         "xaxis": "x6",
         "yaxis": "y6",
         "z": [
          [
           [
            179,
            3,
            38,
            255
           ],
           [
            220,
            220,
            221,
            255
           ],
           [
            221,
            220,
            219,
            255
           ],
           [
            227,
            217,
            211,
            255
           ],
           [
            199,
            214,
            240,
            255
           ]
          ],
          [
           [
            220,
            220,
            221,
            255
           ],
           [
            187,
            26,
            43,
            255
           ],
           [
            69,
            91,
            205,
            255
           ],
           [
            221,
            220,
            219,
            255
           ],
           [
            221,
            220,
            219,
            255
           ]
          ],
          [
           [
            221,
            220,
            219,
            255
           ],
           [
            69,
            91,
            205,
            255
           ],
           [
            198,
            53,
            52,
            255
           ],
           [
            220,
            220,
            221,
            255
           ],
           [
            220,
            220,
            221,
            255
           ]
          ],
          [
           [
            227,
            217,
            211,
            255
           ],
           [
            221,
            220,
            219,
            255
           ],
           [
            220,
            220,
            221,
            255
           ],
           [
            221,
            220,
            219,
            255
           ],
           [
            219,
            220,
            222,
            255
           ]
          ],
          [
           [
            199,
            214,
            240,
            255
           ],
           [
            221,
            220,
            219,
            255
           ],
           [
            220,
            220,
            221,
            255
           ],
           [
            219,
            220,
            222,
            255
           ],
           [
            223,
            219,
            217,
            255
           ]
          ]
         ]
        },
        {
         "marker": {
          "cmax": 1,
          "cmin": 0,
          "color": [
           0.9707961082458496,
           0.9960452318191528,
           1.0142499208450317,
           1.4192469120025635,
           1.0297391414642334
          ]
         },
         "type": "bar",
         "width": 0.9,
         "x": [
          0,
          1,
          2,
          3,
          4
         ],
         "xaxis": "x7",
         "y": [
          1.0297473669052124,
          1.0142264366149902,
          0.9960213899612427,
          0.008564487099647522,
          0.9708021879196167
         ],
         "yaxis": "y7"
        },
        {
         "colormodel": "rgba256",
         "customdata": [
          [
           1.0603796243667603,
           -0.0003044307231903076,
           0.0017281174659729004,
           -0.0025085178203880787,
           -0.9996798038482666
          ],
          [
           -0.0003044307231903076,
           1.0286551713943481,
           -1.0101902484893799,
           -0.0083268191665411,
           -0.001200646162033081
          ],
          [
           0.0017281174659729004,
           -1.0101902484893799,
           0.9920586347579956,
           0.00817396305501461,
           -0.00016823410987854004
          ],
          [
           -0.0025085178203880787,
           -0.0083268191665411,
           0.00817396305501461,
           0.00007335044210776687,
           0.0023769650142639875
          ],
          [
           -0.9996798038482666,
           -0.001200646162033081,
           -0.00016823410987854004,
           0.0023769650142639875,
           0.942456841468811
          ]
         ],
         "hovertemplate": "\t\tIn: %{x}<br>\n\t\tOut: %{y}<br>\n\t\tWeight: %{customdata:0.2f}\n\t\t",
         "type": "image",
         "xaxis": "x8",
         "yaxis": "y8",
         "z": [
          [
           [
            179,
            3,
            38,
            255
           ],
           [
            220,
            220,
            221,
            255
           ],
           [
            221,
            220,
            219,
            255
           ],
           [
            220,
            220,
            221,
            255
           ],
           [
            58,
            76,
            192,
            255
           ]
          ],
          [
           [
            220,
            220,
            221,
            255
           ],
           [
            179,
            3,
            38,
            255
           ],
           [
            58,
            76,
            192,
            255
           ],
           [
            219,
            220,
            222,
            255
           ],
           [
            220,
            220,
            221,
            255
           ]
          ],
          [
           [
            221,
            220,
            219,
            255
           ],
           [
            58,
            76,
            192,
            255
           ],
           [
            181,
            8,
            39,
            255
           ],
           [
            222,
            219,
            218,
            255
           ],
           [
            220,
            220,
            221,
            255
           ]
          ],
          [
           [
            220,
            220,
            221,
            255
           ],
           [
            219,
            220,
            222,
            255
           ],
           [
            222,
            219,
            218,
            255
           ],
           [
            221,
            220,
            219,
            255
           ],
           [
            221,
            220,
            219,
            255
           ]
          ],
          [
           [
            58,
            76,
            192,
            255
           ],
           [
            220,
            220,
            221,
            255
           ],
           [
            220,
            220,
            221,
            255
           ],
           [
            221,
            220,
            219,
            255
           ],
           [
            190,
            35,
            45,
            255
           ]
          ]
         ]
        },
        {
         "marker": {
          "cmax": 1,
          "cmin": 0,
          "color": [
           1.0016367435455322,
           1.0048991441726685,
           1.0192737579345703,
           1.0158816576004028,
           1.42116117477417
          ]
         },
         "type": "bar",
         "width": 0.9,
         "x": [
          0,
          1,
          2,
          3,
          4
         ],
         "xaxis": "x9",
         "y": [
          1.0192835330963135,
          1.0158895254135132,
          1.0016438961029053,
          1.004906177520752,
          0.0019974345341324806
         ],
         "yaxis": "y9"
        },
        {
         "colormodel": "rgba256",
         "customdata": [
          [
           1.0389389991760254,
           -0.0017631351947784424,
           -1.020958662033081,
           0.0013976693153381348,
           0.001191932475194335
          ],
          [
           -0.0017631351947784424,
           1.032031536102295,
           0.0007086098194122314,
           -1.0208736658096313,
           0.0016430538380518556
          ],
          [
           -1.020958662033081,
           0.0007086098194122314,
           1.0032905340194702,
           -0.0003605782985687256,
           -0.0011729366378858685
          ],
          [
           0.0013976693153381348,
           -1.0208736658096313,
           -0.0003605782985687256,
           1.0098364353179932,
           -0.0016256881644949317
          ],
          [
           0.001191932475194335,
           0.0016430538380518556,
           -0.0011729366378858685,
           -0.0016256881644949317,
           0.00000398974498239113
          ]
         ],
         "hovertemplate": "\t\tIn: %{x}<br>\n\t\tOut: %{y}<br>\n\t\tWeight: %{customdata:0.2f}\n\t\t",
         "type": "image",
         "xaxis": "x10",
         "yaxis": "y10",
         "z": [
          [
           [
            179,
            3,
            38,
            255
           ],
           [
            220,
            220,
            221,
            255
           ],
           [
            58,
            76,
            192,
            255
           ],
           [
            221,
            220,
            219,
            255
           ],
           [
            221,
            220,
            219,
            255
           ]
          ],
          [
           [
            220,
            220,
            221,
            255
           ],
           [
            179,
            3,
            38,
            255
           ],
           [
            221,
            220,
            219,
            255
           ],
           [
            58,
            76,
            192,
            255
           ],
           [
            221,
            220,
            219,
            255
           ]
          ],
          [
           [
            58,
            76,
            192,
            255
           ],
           [
            221,
            220,
            219,
            255
           ],
           [
            179,
            3,
            38,
            255
           ],
           [
            220,
            220,
            221,
            255
           ],
           [
            220,
            220,
            221,
            255
           ]
          ],
          [
           [
            221,
            220,
            219,
            255
           ],
           [
            58,
            76,
            192,
            255
           ],
           [
            220,
            220,
            221,
            255
           ],
           [
            179,
            3,
            38,
            255
           ],
           [
            220,
            220,
            221,
            255
           ]
          ],
          [
           [
            221,
            220,
            219,
            255
           ],
           [
            221,
            220,
            219,
            255
           ],
           [
            220,
            220,
            221,
            255
           ],
           [
            220,
            220,
            221,
            255
           ],
           [
            221,
            220,
            219,
            255
           ]
          ]
         ]
        },
        {
         "marker": {
          "cmax": 1,
          "cmin": 0,
          "color": [
           1.0096145868301392,
           1.0108460187911987,
           1.0107053518295288,
           1.007881760597229,
           1.4199317693710327
          ]
         },
         "type": "bar",
         "width": 0.9,
         "x": [
          0,
          1,
          2,
          3,
          4
         ],
         "xaxis": "x11",
         "y": [
          1.0108518600463867,
          1.009622573852539,
          1.0078933238983154,
          1.01071298122406,
          0.0016138609498739243
         ],
         "yaxis": "y11"
        },
        {
         "colormodel": "rgba256",
         "customdata": [
          [
           1.0218214988708496,
           -1.020578384399414,
           0.0015433728694915771,
           0.0004043877124786377,
           -0.0016308168414980173
          ],
          [
           -1.020578384399414,
           1.0193376541137695,
           -0.0025370419025421143,
           0.0005944967269897461,
           0.0016288745682686567
          ],
          [
           0.0015433728694915771,
           -0.0025370419025421143,
           1.015848994255066,
           -1.0186889171600342,
           -0.00004498229827731848
          ],
          [
           0.0004043877124786377,
           0.0005944967269897461,
           -1.0186889171600342,
           1.021540641784668,
           0.00004199275281280279
          ],
          [
           -0.0016308168414980173,
           0.0016288745682686567,
           -0.00004498229827731848,
           0.00004199275281280279,
           0.0000026045472623081878
          ]
         ],
         "hovertemplate": "\t\tIn: %{x}<br>\n\t\tOut: %{y}<br>\n\t\tWeight: %{customdata:0.2f}\n\t\t",
         "type": "image",
         "xaxis": "x12",
         "yaxis": "y12",
         "z": [
          [
           [
            179,
            3,
            38,
            255
           ],
           [
            58,
            76,
            192,
            255
           ],
           [
            221,
            220,
            219,
            255
           ],
           [
            221,
            220,
            219,
            255
           ],
           [
            220,
            220,
            221,
            255
           ]
          ],
          [
           [
            58,
            76,
            192,
            255
           ],
           [
            179,
            3,
            38,
            255
           ],
           [
            220,
            220,
            221,
            255
           ],
           [
            221,
            220,
            219,
            255
           ],
           [
            221,
            220,
            219,
            255
           ]
          ],
          [
           [
            221,
            220,
            219,
            255
           ],
           [
            220,
            220,
            221,
            255
           ],
           [
            179,
            3,
            38,
            255
           ],
           [
            58,
            76,
            192,
            255
           ],
           [
            220,
            220,
            221,
            255
           ]
          ],
          [
           [
            221,
            220,
            219,
            255
           ],
           [
            221,
            220,
            219,
            255
           ],
           [
            58,
            76,
            192,
            255
           ],
           [
            179,
            3,
            38,
            255
           ],
           [
            221,
            220,
            219,
            255
           ]
          ],
          [
           [
            220,
            220,
            221,
            255
           ],
           [
            221,
            220,
            219,
            255
           ],
           [
            220,
            220,
            221,
            255
           ],
           [
            221,
            220,
            219,
            255
           ],
           [
            221,
            220,
            219,
            255
           ]
          ]
         ]
        },
        {
         "marker": {
          "cmax": 1,
          "cmin": 0,
          "color": [
           1.0380586385726929,
           1.4567466974258423,
           1.0013700723648071,
           1.0797483921051025,
           1.0125923156738281
          ]
         },
         "type": "bar",
         "width": 0.9,
         "x": [
          0,
          1,
          2,
          3,
          4
         ],
         "xaxis": "x13",
         "y": [
          1.0513625144958496,
          0.2460942417383194,
          1.0125795602798462,
          1.008499026298523,
          1.001357078552246
         ],
         "yaxis": "y13"
        },
        {
         "colormodel": "rgba256",
         "customdata": [
          [
           1.1053632497787476,
           0.2586304545402527,
           0.0014771819114685059,
           -1.0602977275848389,
           -0.0008628964424133301
          ],
          [
           0.2586304545402527,
           0.0605623722076416,
           -0.006712689995765686,
           -0.24809235334396362,
           0.0067781731486320496
          ],
          [
           0.0014771819114685059,
           -0.006712689995765686,
           1.0253174304962158,
           -0.0005085468292236328,
           -1.0139535665512085
          ],
          [
           -1.0602977275848389,
           -0.24809235334396362,
           -0.0005085468292236328,
           1.0170702934265137,
           -0.0000705718994140625
          ],
          [
           -0.0008628964424133301,
           0.0067781731486320496,
           -1.0139535665512085,
           -0.0000705718994140625,
           1.002716064453125
          ]
         ],
         "hovertemplate": "\t\tIn: %{x}<br>\n\t\tOut: %{y}<br>\n\t\tWeight: %{customdata:0.2f}\n\t\t",
         "type": "image",
         "xaxis": "x14",
         "yaxis": "y14",
         "z": [
          [
           [
            179,
            3,
            38,
            255
           ],
           [
            244,
            194,
            170,
            255
           ],
           [
            221,
            220,
            219,
            255
           ],
           [
            58,
            76,
            192,
            255
           ],
           [
            220,
            220,
            221,
            255
           ]
          ],
          [
           [
            244,
            194,
            170,
            255
           ],
           [
            228,
            216,
            209,
            255
           ],
           [
            220,
            220,
            221,
            255
           ],
           [
            184,
            207,
            248,
            255
           ],
           [
            221,
            220,
            219,
            255
           ]
          ],
          [
           [
            221,
            220,
            219,
            255
           ],
           [
            220,
            220,
            221,
            255
           ],
           [
            179,
            3,
            38,
            255
           ],
           [
            220,
            220,
            221,
            255
           ],
           [
            58,
            76,
            192,
            255
           ]
          ],
          [
           [
            58,
            76,
            192,
            255
           ],
           [
            184,
            207,
            248,
            255
           ],
           [
            220,
            220,
            221,
            255
           ],
           [
            179,
            3,
            38,
            255
           ],
           [
            220,
            220,
            221,
            255
           ]
          ],
          [
           [
            220,
            220,
            221,
            255
           ],
           [
            221,
            220,
            219,
            255
           ],
           [
            58,
            76,
            192,
            255
           ],
           [
            220,
            220,
            221,
            255
           ],
           [
            179,
            3,
            38,
            255
           ]
          ]
         ]
        },
        {
         "marker": {
          "cmax": 1,
          "cmin": 0,
          "color": [
           1.344881296157837,
           1.3452860116958618,
           1.3435488939285278,
           1.3455158472061157,
           1.3547049760818481
          ]
         },
         "type": "bar",
         "width": 0.9,
         "x": [
          0,
          1,
          2,
          3,
          4
         ],
         "xaxis": "x15",
         "y": [
          1.11237370967865,
          1.1148552894592285,
          1.1012415885925293,
          1.0945701599121094,
          1.0751397609710693
         ],
         "yaxis": "y15"
        },
        {
         "colormodel": "rgba256",
         "customdata": [
          [
           1.2373753786087036,
           -0.9929208755493164,
           0.3545972406864166,
           -0.9933433532714844,
           0.3737984299659729
          ],
          [
           -0.9929208755493164,
           1.2429022789001465,
           -0.9886136054992676,
           0.3743177652359009,
           0.3821982145309448
          ],
          [
           0.3545972406864166,
           -0.9886136054992676,
           1.2127330303192139,
           0.3825409412384033,
           -0.969401478767395
          ],
          [
           -0.9933433532714844,
           0.3743177652359009,
           0.3825409412384033,
           1.1980838775634766,
           -0.9465113282203674
          ],
          [
           0.3737984299659729,
           0.3821982145309448,
           -0.969401478767395,
           -0.9465113282203674,
           1.1559256315231323
          ]
         ],
         "hovertemplate": "\t\tIn: %{x}<br>\n\t\tOut: %{y}<br>\n\t\tWeight: %{customdata:0.2f}\n\t\t",
         "type": "image",
         "xaxis": "x16",
         "yaxis": "y16",
         "z": [
          [
           [
            179,
            3,
            38,
            255
           ],
           [
            58,
            76,
            192,
            255
           ],
           [
            247,
            179,
            151,
            255
           ],
           [
            58,
            76,
            192,
            255
           ],
           [
            247,
            177,
            148,
            255
           ]
          ],
          [
           [
            58,
            76,
            192,
            255
           ],
           [
            179,
            3,
            38,
            255
           ],
           [
            59,
            77,
            193,
            255
           ],
           [
            247,
            177,
            148,
            255
           ],
           [
            247,
            176,
            146,
            255
           ]
          ],
          [
           [
            247,
            179,
            151,
            255
           ],
           [
            59,
            77,
            193,
            255
           ],
           [
            179,
            3,
            38,
            255
           ],
           [
            247,
            176,
            146,
            255
           ],
           [
            62,
            81,
            196,
            255
           ]
          ],
          [
           [
            58,
            76,
            192,
            255
           ],
           [
            247,
            177,
            148,
            255
           ],
           [
            247,
            176,
            146,
            255
           ],
           [
            179,
            3,
            38,
            255
           ],
           [
            65,
            86,
            201,
            255
           ]
          ],
          [
           [
            247,
            177,
            148,
            255
           ],
           [
            247,
            176,
            146,
            255
           ],
           [
            62,
            81,
            196,
            255
           ],
           [
            65,
            86,
            201,
            255
           ],
           [
            179,
            3,
            38,
            255
           ]
          ]
         ]
        },
        {
         "marker": {
          "cmax": 1,
          "cmin": 0,
          "color": [
           1.0054112672805786,
           1.0037978887557983,
           1.1082532405853271,
           1.0599949359893799,
           1.4659409523010254
          ]
         },
         "type": "bar",
         "width": 0.9,
         "x": [
          0,
          1,
          2,
          3,
          4
         ],
         "xaxis": "x17",
         "y": [
          1.0038065910339355,
          1.0054205656051636,
          1.0110609531402588,
          1.0615473985671997,
          0.3183841109275818
         ],
         "yaxis": "y17"
        },
        {
         "colormodel": "rgba256",
         "customdata": [
          [
           1.0076277256011963,
           -1.009244680404663,
           -0.0010005347430706024,
           0.0020266659557819366,
           -0.0016556046903133392
          ],
          [
           -1.009244680404663,
           1.0108704566955566,
           -0.0014980025589466095,
           0.0005950629711151123,
           0.002445550635457039
          ],
          [
           -0.0010005347430706024,
           -0.0014980025589466095,
           1.0222442150115967,
           -1.0732886791229248,
           -0.3218996226787567
          ],
          [
           0.0020266659557819366,
           0.0005950629711151123,
           -1.0732886791229248,
           1.1268829107284546,
           0.33797135949134827
          ],
          [
           -0.0016556046903133392,
           0.002445550635457039,
           -0.3218996226787567,
           0.33797135949134827,
           0.10136844217777252
          ]
         ],
         "hovertemplate": "\t\tIn: %{x}<br>\n\t\tOut: %{y}<br>\n\t\tWeight: %{customdata:0.2f}\n\t\t",
         "type": "image",
         "xaxis": "x18",
         "yaxis": "y18",
         "z": [
          [
           [
            179,
            3,
            38,
            255
           ],
           [
            58,
            76,
            192,
            255
           ],
           [
            220,
            220,
            221,
            255
           ],
           [
            221,
            220,
            219,
            255
           ],
           [
            220,
            220,
            221,
            255
           ]
          ],
          [
           [
            58,
            76,
            192,
            255
           ],
           [
            179,
            3,
            38,
            255
           ],
           [
            220,
            220,
            221,
            255
           ],
           [
            221,
            220,
            219,
            255
           ],
           [
            221,
            220,
            219,
            255
           ]
          ],
          [
           [
            220,
            220,
            221,
            255
           ],
           [
            220,
            220,
            221,
            255
           ],
           [
            179,
            3,
            38,
            255
           ],
           [
            58,
            76,
            192,
            255
           ],
           [
            171,
            199,
            252,
            255
           ]
          ],
          [
           [
            221,
            220,
            219,
            255
           ],
           [
            221,
            220,
            219,
            255
           ],
           [
            58,
            76,
            192,
            255
           ],
           [
            179,
            3,
            38,
            255
           ],
           [
            246,
            182,
            154,
            255
           ]
          ],
          [
           [
            220,
            220,
            221,
            255
           ],
           [
            221,
            220,
            219,
            255
           ],
           [
            171,
            199,
            252,
            255
           ],
           [
            246,
            182,
            154,
            255
           ],
           [
            232,
            213,
            202,
            255
           ]
          ]
         ]
        },
        {
         "marker": {
          "cmax": 1,
          "cmin": 0,
          "color": [
           1.3842077255249023,
           1.3822178840637207,
           1.3839483261108398,
           1.3936687707901,
           1.3928582668304443
          ]
         },
         "type": "bar",
         "width": 0.9,
         "x": [
          0,
          1,
          2,
          3,
          4
         ],
         "xaxis": "x19",
         "y": [
          1.1439839601516724,
          1.1412984132766724,
          1.1313165426254272,
          1.1275463104248047,
          1.1198031902313232
         ],
         "yaxis": "y19"
        },
        {
         "colormodel": "rgba256",
         "customdata": [
          [
           1.3086992502212524,
           -1.0793462991714478,
           0.3782672882080078,
           -1.022874355316162,
           0.391415536403656
          ],
          [
           -1.0793462991714478,
           1.3025621175765991,
           0.3827921152114868,
           0.4024854004383087,
           -1.0075266361236572
          ],
          [
           0.3782672882080078,
           0.3827921152114868,
           1.2798771858215332,
           -1.0388634204864502,
           -1.040459394454956
          ],
          [
           -1.022874355316162,
           0.4024854004383087,
           -1.0388634204864502,
           1.2713607549667358,
           0.42652130126953125
          ],
          [
           0.391415536403656,
           -1.0075266361236572,
           -1.040459394454956,
           0.42652130126953125,
           1.2539591789245605
          ]
         ],
         "hovertemplate": "\t\tIn: %{x}<br>\n\t\tOut: %{y}<br>\n\t\tWeight: %{customdata:0.2f}\n\t\t",
         "type": "image",
         "xaxis": "x20",
         "yaxis": "y20",
         "z": [
          [
           [
            179,
            3,
            38,
            255
           ],
           [
            58,
            76,
            192,
            255
           ],
           [
            247,
            176,
            146,
            255
           ],
           [
            58,
            76,
            192,
            255
           ],
           [
            247,
            173,
            143,
            255
           ]
          ],
          [
           [
            58,
            76,
            192,
            255
           ],
           [
            179,
            3,
            38,
            255
           ],
           [
            247,
            176,
            146,
            255
           ],
           [
            246,
            171,
            141,
            255
           ],
           [
            58,
            76,
            192,
            255
           ]
          ],
          [
           [
            247,
            176,
            146,
            255
           ],
           [
            247,
            176,
            146,
            255
           ],
           [
            179,
            3,
            38,
            255
           ],
           [
            58,
            76,
            192,
            255
           ],
           [
            58,
            76,
            192,
            255
           ]
          ],
          [
           [
            58,
            76,
            192,
            255
           ],
           [
            246,
            171,
            141,
            255
           ],
           [
            58,
            76,
            192,
            255
           ],
           [
            179,
            3,
            38,
            255
           ],
           [
            246,
            167,
            137,
            255
           ]
          ],
          [
           [
            247,
            173,
            143,
            255
           ],
           [
            58,
            76,
            192,
            255
           ],
           [
            58,
            76,
            192,
            255
           ],
           [
            246,
            167,
            137,
            255
           ],
           [
            179,
            3,
            38,
            255
           ]
          ]
         ]
        }
       ],
       "layout": {
        "height": 1000,
        "margin": {
         "b": 0,
         "t": 0
        },
        "shapes": [
         {
          "line": {
           "width": 0.5
          },
          "type": "line",
          "x0": 1.5,
          "x1": 1.5,
          "xref": "x",
          "y0": 0,
          "y1": 1,
          "yref": "y domain"
         },
         {
          "line": {
           "width": 0.5
          },
          "type": "line",
          "x0": 1.5,
          "x1": 1.5,
          "xref": "x3",
          "y0": 0,
          "y1": 1,
          "yref": "y3 domain"
         },
         {
          "line": {
           "width": 0.5
          },
          "type": "line",
          "x0": 1.5,
          "x1": 1.5,
          "xref": "x5",
          "y0": 0,
          "y1": 1,
          "yref": "y5 domain"
         },
         {
          "line": {
           "width": 0.5
          },
          "type": "line",
          "x0": 1.5,
          "x1": 1.5,
          "xref": "x7",
          "y0": 0,
          "y1": 1,
          "yref": "y7 domain"
         },
         {
          "line": {
           "width": 0.5
          },
          "type": "line",
          "x0": 1.5,
          "x1": 1.5,
          "xref": "x9",
          "y0": 0,
          "y1": 1,
          "yref": "y9 domain"
         },
         {
          "line": {
           "width": 0.5
          },
          "type": "line",
          "x0": 1.5,
          "x1": 1.5,
          "xref": "x11",
          "y0": 0,
          "y1": 1,
          "yref": "y11 domain"
         },
         {
          "line": {
           "width": 0.5
          },
          "type": "line",
          "x0": 1.5,
          "x1": 1.5,
          "xref": "x13",
          "y0": 0,
          "y1": 1,
          "yref": "y13 domain"
         },
         {
          "line": {
           "width": 0.5
          },
          "type": "line",
          "x0": 1.5,
          "x1": 1.5,
          "xref": "x15",
          "y0": 0,
          "y1": 1,
          "yref": "y15 domain"
         },
         {
          "line": {
           "width": 0.5
          },
          "type": "line",
          "x0": 1.5,
          "x1": 1.5,
          "xref": "x17",
          "y0": 0,
          "y1": 1,
          "yref": "y17 domain"
         },
         {
          "line": {
           "width": 0.5
          },
          "type": "line",
          "x0": 1.5,
          "x1": 1.5,
          "xref": "x19",
          "y0": 0,
          "y1": 1,
          "yref": "y19 domain"
         }
        ],
        "showlegend": false,
        "template": {
         "data": {
          "bar": [
           {
            "error_x": {
             "color": "#2a3f5f"
            },
            "error_y": {
             "color": "#2a3f5f"
            },
            "marker": {
             "line": {
              "color": "#E5ECF6",
              "width": 0.5
             },
             "pattern": {
              "fillmode": "overlay",
              "size": 10,
              "solidity": 0.2
             }
            },
            "type": "bar"
           }
          ],
          "barpolar": [
           {
            "marker": {
             "line": {
              "color": "#E5ECF6",
              "width": 0.5
             },
             "pattern": {
              "fillmode": "overlay",
              "size": 10,
              "solidity": 0.2
             }
            },
            "type": "barpolar"
           }
          ],
          "carpet": [
           {
            "aaxis": {
             "endlinecolor": "#2a3f5f",
             "gridcolor": "white",
             "linecolor": "white",
             "minorgridcolor": "white",
             "startlinecolor": "#2a3f5f"
            },
            "baxis": {
             "endlinecolor": "#2a3f5f",
             "gridcolor": "white",
             "linecolor": "white",
             "minorgridcolor": "white",
             "startlinecolor": "#2a3f5f"
            },
            "type": "carpet"
           }
          ],
          "choropleth": [
           {
            "colorbar": {
             "outlinewidth": 0,
             "ticks": ""
            },
            "type": "choropleth"
           }
          ],
          "contour": [
           {
            "colorbar": {
             "outlinewidth": 0,
             "ticks": ""
            },
            "colorscale": [
             [
              0,
              "#0d0887"
             ],
             [
              0.1111111111111111,
              "#46039f"
             ],
             [
              0.2222222222222222,
              "#7201a8"
             ],
             [
              0.3333333333333333,
              "#9c179e"
             ],
             [
              0.4444444444444444,
              "#bd3786"
             ],
             [
              0.5555555555555556,
              "#d8576b"
             ],
             [
              0.6666666666666666,
              "#ed7953"
             ],
             [
              0.7777777777777778,
              "#fb9f3a"
             ],
             [
              0.8888888888888888,
              "#fdca26"
             ],
             [
              1,
              "#f0f921"
             ]
            ],
            "type": "contour"
           }
          ],
          "contourcarpet": [
           {
            "colorbar": {
             "outlinewidth": 0,
             "ticks": ""
            },
            "type": "contourcarpet"
           }
          ],
          "heatmap": [
           {
            "colorbar": {
             "outlinewidth": 0,
             "ticks": ""
            },
            "colorscale": [
             [
              0,
              "#0d0887"
             ],
             [
              0.1111111111111111,
              "#46039f"
             ],
             [
              0.2222222222222222,
              "#7201a8"
             ],
             [
              0.3333333333333333,
              "#9c179e"
             ],
             [
              0.4444444444444444,
              "#bd3786"
             ],
             [
              0.5555555555555556,
              "#d8576b"
             ],
             [
              0.6666666666666666,
              "#ed7953"
             ],
             [
              0.7777777777777778,
              "#fb9f3a"
             ],
             [
              0.8888888888888888,
              "#fdca26"
             ],
             [
              1,
              "#f0f921"
             ]
            ],
            "type": "heatmap"
           }
          ],
          "heatmapgl": [
           {
            "colorbar": {
             "outlinewidth": 0,
             "ticks": ""
            },
            "colorscale": [
             [
              0,
              "#0d0887"
             ],
             [
              0.1111111111111111,
              "#46039f"
             ],
             [
              0.2222222222222222,
              "#7201a8"
             ],
             [
              0.3333333333333333,
              "#9c179e"
             ],
             [
              0.4444444444444444,
              "#bd3786"
             ],
             [
              0.5555555555555556,
              "#d8576b"
             ],
             [
              0.6666666666666666,
              "#ed7953"
             ],
             [
              0.7777777777777778,
              "#fb9f3a"
             ],
             [
              0.8888888888888888,
              "#fdca26"
             ],
             [
              1,
              "#f0f921"
             ]
            ],
            "type": "heatmapgl"
           }
          ],
          "histogram": [
           {
            "marker": {
             "pattern": {
              "fillmode": "overlay",
              "size": 10,
              "solidity": 0.2
             }
            },
            "type": "histogram"
           }
          ],
          "histogram2d": [
           {
            "colorbar": {
             "outlinewidth": 0,
             "ticks": ""
            },
            "colorscale": [
             [
              0,
              "#0d0887"
             ],
             [
              0.1111111111111111,
              "#46039f"
             ],
             [
              0.2222222222222222,
              "#7201a8"
             ],
             [
              0.3333333333333333,
              "#9c179e"
             ],
             [
              0.4444444444444444,
              "#bd3786"
             ],
             [
              0.5555555555555556,
              "#d8576b"
             ],
             [
              0.6666666666666666,
              "#ed7953"
             ],
             [
              0.7777777777777778,
              "#fb9f3a"
             ],
             [
              0.8888888888888888,
              "#fdca26"
             ],
             [
              1,
              "#f0f921"
             ]
            ],
            "type": "histogram2d"
           }
          ],
          "histogram2dcontour": [
           {
            "colorbar": {
             "outlinewidth": 0,
             "ticks": ""
            },
            "colorscale": [
             [
              0,
              "#0d0887"
             ],
             [
              0.1111111111111111,
              "#46039f"
             ],
             [
              0.2222222222222222,
              "#7201a8"
             ],
             [
              0.3333333333333333,
              "#9c179e"
             ],
             [
              0.4444444444444444,
              "#bd3786"
             ],
             [
              0.5555555555555556,
              "#d8576b"
             ],
             [
              0.6666666666666666,
              "#ed7953"
             ],
             [
              0.7777777777777778,
              "#fb9f3a"
             ],
             [
              0.8888888888888888,
              "#fdca26"
             ],
             [
              1,
              "#f0f921"
             ]
            ],
            "type": "histogram2dcontour"
           }
          ],
          "mesh3d": [
           {
            "colorbar": {
             "outlinewidth": 0,
             "ticks": ""
            },
            "type": "mesh3d"
           }
          ],
          "parcoords": [
           {
            "line": {
             "colorbar": {
              "outlinewidth": 0,
              "ticks": ""
             }
            },
            "type": "parcoords"
           }
          ],
          "pie": [
           {
            "automargin": true,
            "type": "pie"
           }
          ],
          "scatter": [
           {
            "fillpattern": {
             "fillmode": "overlay",
             "size": 10,
             "solidity": 0.2
            },
            "type": "scatter"
           }
          ],
          "scatter3d": [
           {
            "line": {
             "colorbar": {
              "outlinewidth": 0,
              "ticks": ""
             }
            },
            "marker": {
             "colorbar": {
              "outlinewidth": 0,
              "ticks": ""
             }
            },
            "type": "scatter3d"
           }
          ],
          "scattercarpet": [
           {
            "marker": {
             "colorbar": {
              "outlinewidth": 0,
              "ticks": ""
             }
            },
            "type": "scattercarpet"
           }
          ],
          "scattergeo": [
           {
            "marker": {
             "colorbar": {
              "outlinewidth": 0,
              "ticks": ""
             }
            },
            "type": "scattergeo"
           }
          ],
          "scattergl": [
           {
            "marker": {
             "colorbar": {
              "outlinewidth": 0,
              "ticks": ""
             }
            },
            "type": "scattergl"
           }
          ],
          "scattermapbox": [
           {
            "marker": {
             "colorbar": {
              "outlinewidth": 0,
              "ticks": ""
             }
            },
            "type": "scattermapbox"
           }
          ],
          "scatterpolar": [
           {
            "marker": {
             "colorbar": {
              "outlinewidth": 0,
              "ticks": ""
             }
            },
            "type": "scatterpolar"
           }
          ],
          "scatterpolargl": [
           {
            "marker": {
             "colorbar": {
              "outlinewidth": 0,
              "ticks": ""
             }
            },
            "type": "scatterpolargl"
           }
          ],
          "scatterternary": [
           {
            "marker": {
             "colorbar": {
              "outlinewidth": 0,
              "ticks": ""
             }
            },
            "type": "scatterternary"
           }
          ],
          "surface": [
           {
            "colorbar": {
             "outlinewidth": 0,
             "ticks": ""
            },
            "colorscale": [
             [
              0,
              "#0d0887"
             ],
             [
              0.1111111111111111,
              "#46039f"
             ],
             [
              0.2222222222222222,
              "#7201a8"
             ],
             [
              0.3333333333333333,
              "#9c179e"
             ],
             [
              0.4444444444444444,
              "#bd3786"
             ],
             [
              0.5555555555555556,
              "#d8576b"
             ],
             [
              0.6666666666666666,
              "#ed7953"
             ],
             [
              0.7777777777777778,
              "#fb9f3a"
             ],
             [
              0.8888888888888888,
              "#fdca26"
             ],
             [
              1,
              "#f0f921"
             ]
            ],
            "type": "surface"
           }
          ],
          "table": [
           {
            "cells": {
             "fill": {
              "color": "#EBF0F8"
             },
             "line": {
              "color": "white"
             }
            },
            "header": {
             "fill": {
              "color": "#C8D4E3"
             },
             "line": {
              "color": "white"
             }
            },
            "type": "table"
           }
          ]
         },
         "layout": {
          "annotationdefaults": {
           "arrowcolor": "#2a3f5f",
           "arrowhead": 0,
           "arrowwidth": 1
          },
          "autotypenumbers": "strict",
          "coloraxis": {
           "colorbar": {
            "outlinewidth": 0,
            "ticks": ""
           }
          },
          "colorscale": {
           "diverging": [
            [
             0,
             "#8e0152"
            ],
            [
             0.1,
             "#c51b7d"
            ],
            [
             0.2,
             "#de77ae"
            ],
            [
             0.3,
             "#f1b6da"
            ],
            [
             0.4,
             "#fde0ef"
            ],
            [
             0.5,
             "#f7f7f7"
            ],
            [
             0.6,
             "#e6f5d0"
            ],
            [
             0.7,
             "#b8e186"
            ],
            [
             0.8,
             "#7fbc41"
            ],
            [
             0.9,
             "#4d9221"
            ],
            [
             1,
             "#276419"
            ]
           ],
           "sequential": [
            [
             0,
             "#0d0887"
            ],
            [
             0.1111111111111111,
             "#46039f"
            ],
            [
             0.2222222222222222,
             "#7201a8"
            ],
            [
             0.3333333333333333,
             "#9c179e"
            ],
            [
             0.4444444444444444,
             "#bd3786"
            ],
            [
             0.5555555555555556,
             "#d8576b"
            ],
            [
             0.6666666666666666,
             "#ed7953"
            ],
            [
             0.7777777777777778,
             "#fb9f3a"
            ],
            [
             0.8888888888888888,
             "#fdca26"
            ],
            [
             1,
             "#f0f921"
            ]
           ],
           "sequentialminus": [
            [
             0,
             "#0d0887"
            ],
            [
             0.1111111111111111,
             "#46039f"
            ],
            [
             0.2222222222222222,
             "#7201a8"
            ],
            [
             0.3333333333333333,
             "#9c179e"
            ],
            [
             0.4444444444444444,
             "#bd3786"
            ],
            [
             0.5555555555555556,
             "#d8576b"
            ],
            [
             0.6666666666666666,
             "#ed7953"
            ],
            [
             0.7777777777777778,
             "#fb9f3a"
            ],
            [
             0.8888888888888888,
             "#fdca26"
            ],
            [
             1,
             "#f0f921"
            ]
           ]
          },
          "colorway": [
           "#636efa",
           "#EF553B",
           "#00cc96",
           "#ab63fa",
           "#FFA15A",
           "#19d3f3",
           "#FF6692",
           "#B6E880",
           "#FF97FF",
           "#FECB52"
          ],
          "font": {
           "color": "#2a3f5f"
          },
          "geo": {
           "bgcolor": "white",
           "lakecolor": "white",
           "landcolor": "#E5ECF6",
           "showlakes": true,
           "showland": true,
           "subunitcolor": "white"
          },
          "hoverlabel": {
           "align": "left"
          },
          "hovermode": "closest",
          "mapbox": {
           "style": "light"
          },
          "paper_bgcolor": "white",
          "plot_bgcolor": "#E5ECF6",
          "polar": {
           "angularaxis": {
            "gridcolor": "white",
            "linecolor": "white",
            "ticks": ""
           },
           "bgcolor": "#E5ECF6",
           "radialaxis": {
            "gridcolor": "white",
            "linecolor": "white",
            "ticks": ""
           }
          },
          "scene": {
           "xaxis": {
            "backgroundcolor": "#E5ECF6",
            "gridcolor": "white",
            "gridwidth": 2,
            "linecolor": "white",
            "showbackground": true,
            "ticks": "",
            "zerolinecolor": "white"
           },
           "yaxis": {
            "backgroundcolor": "#E5ECF6",
            "gridcolor": "white",
            "gridwidth": 2,
            "linecolor": "white",
            "showbackground": true,
            "ticks": "",
            "zerolinecolor": "white"
           },
           "zaxis": {
            "backgroundcolor": "#E5ECF6",
            "gridcolor": "white",
            "gridwidth": 2,
            "linecolor": "white",
            "showbackground": true,
            "ticks": "",
            "zerolinecolor": "white"
           }
          },
          "shapedefaults": {
           "line": {
            "color": "#2a3f5f"
           }
          },
          "ternary": {
           "aaxis": {
            "gridcolor": "white",
            "linecolor": "white",
            "ticks": ""
           },
           "baxis": {
            "gridcolor": "white",
            "linecolor": "white",
            "ticks": ""
           },
           "bgcolor": "#E5ECF6",
           "caxis": {
            "gridcolor": "white",
            "linecolor": "white",
            "ticks": ""
           }
          },
          "title": {
           "x": 0.05
          },
          "xaxis": {
           "automargin": true,
           "gridcolor": "white",
           "linecolor": "white",
           "ticks": "",
           "title": {
            "standoff": 15
           },
           "zerolinecolor": "white",
           "zerolinewidth": 2
          },
          "yaxis": {
           "automargin": true,
           "gridcolor": "white",
           "linecolor": "white",
           "ticks": "",
           "title": {
            "standoff": 15
           },
           "zerolinecolor": "white",
           "zerolinewidth": 2
          }
         }
        },
        "width": 600,
        "xaxis": {
         "anchor": "y",
         "domain": [
          0,
          0.45
         ],
         "matches": "x19",
         "showticklabels": false,
         "visible": false
        },
        "xaxis10": {
         "anchor": "y10",
         "domain": [
          0.55,
          1
         ],
         "matches": "x20",
         "showticklabels": false,
         "visible": false
        },
        "xaxis11": {
         "anchor": "y11",
         "domain": [
          0,
          0.45
         ],
         "matches": "x19",
         "showticklabels": false,
         "visible": false
        },
        "xaxis12": {
         "anchor": "y12",
         "domain": [
          0.55,
          1
         ],
         "matches": "x20",
         "showticklabels": false,
         "visible": false
        },
        "xaxis13": {
         "anchor": "y13",
         "domain": [
          0,
          0.45
         ],
         "matches": "x19",
         "showticklabels": false,
         "visible": false
        },
        "xaxis14": {
         "anchor": "y14",
         "domain": [
          0.55,
          1
         ],
         "matches": "x20",
         "showticklabels": false,
         "visible": false
        },
        "xaxis15": {
         "anchor": "y15",
         "domain": [
          0,
          0.45
         ],
         "matches": "x19",
         "showticklabels": false,
         "visible": false
        },
        "xaxis16": {
         "anchor": "y16",
         "domain": [
          0.55,
          1
         ],
         "matches": "x20",
         "showticklabels": false,
         "visible": false
        },
        "xaxis17": {
         "anchor": "y17",
         "domain": [
          0,
          0.45
         ],
         "matches": "x19",
         "showticklabels": false,
         "visible": false
        },
        "xaxis18": {
         "anchor": "y18",
         "domain": [
          0.55,
          1
         ],
         "matches": "x20",
         "showticklabels": false,
         "visible": false
        },
        "xaxis19": {
         "anchor": "y19",
         "domain": [
          0,
          0.45
         ],
         "visible": false
        },
        "xaxis2": {
         "anchor": "y2",
         "domain": [
          0.55,
          1
         ],
         "matches": "x20",
         "showticklabels": false,
         "visible": false
        },
        "xaxis20": {
         "anchor": "y20",
         "domain": [
          0.55,
          1
         ],
         "visible": false
        },
        "xaxis3": {
         "anchor": "y3",
         "domain": [
          0,
          0.45
         ],
         "matches": "x19",
         "showticklabels": false,
         "visible": false
        },
        "xaxis4": {
         "anchor": "y4",
         "domain": [
          0.55,
          1
         ],
         "matches": "x20",
         "showticklabels": false,
         "visible": false
        },
        "xaxis5": {
         "anchor": "y5",
         "domain": [
          0,
          0.45
         ],
         "matches": "x19",
         "showticklabels": false,
         "visible": false
        },
        "xaxis6": {
         "anchor": "y6",
         "domain": [
          0.55,
          1
         ],
         "matches": "x20",
         "showticklabels": false,
         "visible": false
        },
        "xaxis7": {
         "anchor": "y7",
         "domain": [
          0,
          0.45
         ],
         "matches": "x19",
         "showticklabels": false,
         "visible": false
        },
        "xaxis8": {
         "anchor": "y8",
         "domain": [
          0.55,
          1
         ],
         "matches": "x20",
         "showticklabels": false,
         "visible": false
        },
        "xaxis9": {
         "anchor": "y9",
         "domain": [
          0,
          0.45
         ],
         "matches": "x19",
         "showticklabels": false,
         "visible": false
        },
        "yaxis": {
         "anchor": "x",
         "domain": [
          0.9179999999999999,
          0.9999999999999999
         ],
         "visible": false
        },
        "yaxis10": {
         "anchor": "x10",
         "domain": [
          0.51,
          0.592
         ],
         "visible": false
        },
        "yaxis11": {
         "anchor": "x11",
         "domain": [
          0.40800000000000003,
          0.49000000000000005
         ],
         "visible": false
        },
        "yaxis12": {
         "anchor": "x12",
         "domain": [
          0.40800000000000003,
          0.49000000000000005
         ],
         "visible": false
        },
        "yaxis13": {
         "anchor": "x13",
         "domain": [
          0.306,
          0.388
         ],
         "visible": false
        },
        "yaxis14": {
         "anchor": "x14",
         "domain": [
          0.306,
          0.388
         ],
         "visible": false
        },
        "yaxis15": {
         "anchor": "x15",
         "domain": [
          0.20400000000000001,
          0.28600000000000003
         ],
         "visible": false
        },
        "yaxis16": {
         "anchor": "x16",
         "domain": [
          0.20400000000000001,
          0.28600000000000003
         ],
         "visible": false
        },
        "yaxis17": {
         "anchor": "x17",
         "domain": [
          0.10200000000000001,
          0.184
         ],
         "visible": false
        },
        "yaxis18": {
         "anchor": "x18",
         "domain": [
          0.10200000000000001,
          0.184
         ],
         "visible": false
        },
        "yaxis19": {
         "anchor": "x19",
         "domain": [
          0,
          0.082
         ],
         "visible": false
        },
        "yaxis2": {
         "anchor": "x2",
         "domain": [
          0.9179999999999999,
          0.9999999999999999
         ],
         "visible": false
        },
        "yaxis20": {
         "anchor": "x20",
         "domain": [
          0,
          0.082
         ],
         "visible": false
        },
        "yaxis3": {
         "anchor": "x3",
         "domain": [
          0.8160000000000001,
          0.898
         ],
         "visible": false
        },
        "yaxis4": {
         "anchor": "x4",
         "domain": [
          0.8160000000000001,
          0.898
         ],
         "visible": false
        },
        "yaxis5": {
         "anchor": "x5",
         "domain": [
          0.7140000000000001,
          0.796
         ],
         "visible": false
        },
        "yaxis6": {
         "anchor": "x6",
         "domain": [
          0.7140000000000001,
          0.796
         ],
         "visible": false
        },
        "yaxis7": {
         "anchor": "x7",
         "domain": [
          0.6120000000000001,
          0.6940000000000001
         ],
         "visible": false
        },
        "yaxis8": {
         "anchor": "x8",
         "domain": [
          0.6120000000000001,
          0.6940000000000001
         ],
         "visible": false
        },
        "yaxis9": {
         "anchor": "x9",
         "domain": [
          0.51,
          0.592
         ],
         "visible": false
        }
       }
      }
     },
     "metadata": {},
     "output_type": "display_data"
    }
   ],
   "source": [
    "import numpy as np\n",
    "render_features(model, which=np.s_[:], to_sort=False)"
   ]
  },
  {
   "cell_type": "code",
   "execution_count": 7,
   "metadata": {},
   "outputs": [
    {
     "data": {
      "application/vnd.plotly.v1+json": {
       "config": {
        "plotlyServerURL": "https://plot.ly"
       },
       "data": [
        {
         "marker": {
          "color": "black",
          "opacity": 0.5,
          "size": 1.5
         },
         "mode": "markers",
         "type": "scatter",
         "x": [
          0.9781971611445013,
          0.9957598190036592,
          0.9818745033933797,
          0.9738058220030569,
          1.0274948914566102
         ],
         "y": [
          0.9999639987945557,
          0.9998294115066528,
          0.000022974983949097805,
          0.0001658387336647138,
          0.00001726931986922864
         ]
        },
        {
         "marker": {
          "color": "black",
          "opacity": 0.5,
          "size": 1.5
         },
         "mode": "markers",
         "type": "scatter",
         "x": [
          1.392870677812042,
          1.363307178623004,
          1.4166997690134033,
          1.40697770731766,
          1.3918264357302959
         ],
         "y": [
          0.9996433854103088,
          0.9634144306182861,
          0.03667892515659332,
          0.00018241778889205307,
          0.000079618017480243
         ]
        },
        {
         "marker": {
          "color": "black",
          "opacity": 0.5,
          "size": 1.5
         },
         "mode": "markers",
         "type": "scatter",
         "x": [
          1.9073446714069875,
          2.0221172865163433,
          1.991874578242929,
          1.9623107868172158,
          1.9298672341607688
         ],
         "y": [
          0.9757972359657288,
          0.5183845162391663,
          0.48159217834472656,
          0.002720627235248685,
          0.021478543058037758
         ]
        },
        {
         "marker": {
          "color": "black",
          "opacity": 0.5,
          "size": 1.5
         },
         "mode": "markers",
         "type": "scatter",
         "x": [
          2.6792035213609613,
          2.7589544124390226,
          2.671443988001178,
          2.6843345705877506,
          2.756978862185558
         ],
         "y": [
          0.5294371843338013,
          0.5090384483337402,
          0.49092796444892883,
          0.000036329332942841575,
          0.4705599546432495
         ]
        },
        {
         "marker": {
          "color": "black",
          "opacity": 0.5,
          "size": 1.5
         },
         "mode": "markers",
         "type": "scatter",
         "x": [
          3.8231581512370396,
          3.8920613019239516,
          3.735227232514531,
          3.64599556958121,
          3.7757082605726677
         ],
         "y": [
          0.5087264180183411,
          0.5054333806037903,
          0.4912719130516052,
          0.4945637881755829,
          0.000001955778998308233
         ]
        },
        {
         "marker": {
          "color": "black",
          "opacity": 0.5,
          "size": 1.5
         },
         "mode": "markers",
         "type": "scatter",
         "x": [
          5.230500143471914,
          5.16455677529353,
          5.390520701763184,
          5.207831014881576,
          5.216478902150319
         ],
         "y": [
          0.5006073117256165,
          0.4993897080421448,
          0.4986020028591156,
          0.5013977885246277,
          0.0000012759433047904167
         ]
        },
        {
         "marker": {
          "color": "black",
          "opacity": 0.5,
          "size": 1.5
         },
         "mode": "markers",
         "type": "scatter",
         "x": [
          7.5679527290192565,
          7.330900350031402,
          7.301669173350866,
          7.3729037656236605,
          7.4036097054973675
         ],
         "y": [
          0.5063621997833252,
          0.027744688093662262,
          0.5055607557296753,
          0.46591562032699585,
          0.4944164752960205
         ]
        },
        {
         "marker": {
          "color": "black",
          "opacity": 0.5,
          "size": 1.5
         },
         "mode": "markers",
         "type": "scatter",
         "x": [
          10.06472779341742,
          9.915958521054634,
          10.181775028276917,
          10.14471965898149,
          9.946744359316769
         ],
         "y": [
          0.4062144458293915,
          0.4071446359157562,
          0.40184804797172546,
          0.3982289731502533,
          0.3864439129829407
         ]
        },
        {
         "marker": {
          "color": "black",
          "opacity": 0.5,
          "size": 1.5
         },
         "mode": "markers",
         "type": "scatter",
         "x": [
          14.23995280891609,
          14.666115611424145,
          13.795029593096041,
          13.845324102796898,
          14.219983985116667
         ],
         "y": [
          0.49919626116752625,
          0.5008026957511902,
          0.4542311429977417,
          0.5007269978523254,
          0.045042913407087326
         ]
        },
        {
         "marker": {
          "color": "black",
          "opacity": 0.5,
          "size": 1.5
         },
         "mode": "markers",
         "type": "scatter",
         "x": [
          20.29915331496833,
          19.894686658140543,
          19.95550491894868,
          20.2023340986961,
          20.510762938703447
         ],
         "y": [
          0.40582793951034546,
          0.4053882956504822,
          0.4005593955516815,
          0.39560553431510925,
          0.3925924599170685
         ]
        }
       ],
       "layout": {
        "annotations": [
         {
          "showarrow": false,
          "text": "1/2",
          "x": 1,
          "xanchor": "right",
          "xref": "x domain",
          "y": 0.5,
          "yanchor": "bottom",
          "yref": "y"
         },
         {
          "showarrow": false,
          "text": "2/3",
          "x": 1,
          "xanchor": "right",
          "xref": "x domain",
          "y": 0.6666666666666666,
          "yanchor": "bottom",
          "yref": "y"
         },
         {
          "showarrow": false,
          "text": "2/5",
          "x": 1,
          "xanchor": "right",
          "xref": "x domain",
          "y": 0.4,
          "yanchor": "bottom",
          "yref": "y"
         },
         {
          "showarrow": false,
          "text": "2/6",
          "x": 1,
          "xanchor": "right",
          "xref": "x domain",
          "y": 0.3333333333333333,
          "yanchor": "bottom",
          "yref": "y"
         },
         {
          "showarrow": false,
          "text": "2/7",
          "x": 1,
          "xanchor": "right",
          "xref": "x domain",
          "y": 0.2857142857142857,
          "yanchor": "bottom",
          "yref": "y"
         },
         {
          "showarrow": false,
          "text": "5/6",
          "x": 0.05,
          "xanchor": "right",
          "xref": "x domain",
          "y": 0.8333333333333334,
          "yanchor": "bottom",
          "yref": "y"
         },
         {
          "showarrow": false,
          "text": "4/5",
          "x": 0.05,
          "xanchor": "right",
          "xref": "x domain",
          "y": 0.8,
          "yanchor": "bottom",
          "yref": "y"
         },
         {
          "showarrow": false,
          "text": "3/4",
          "x": 0.05,
          "xanchor": "right",
          "xref": "x domain",
          "y": 0.75,
          "yanchor": "bottom",
          "yref": "y"
         },
         {
          "showarrow": false,
          "text": "3/8",
          "x": 0.05,
          "xanchor": "right",
          "xref": "x domain",
          "y": 0.375,
          "yanchor": "bottom",
          "yref": "y"
         },
         {
          "showarrow": false,
          "text": "3/12",
          "x": 0.05,
          "xanchor": "right",
          "xref": "x domain",
          "y": 0.25,
          "yanchor": "bottom",
          "yref": "y"
         },
         {
          "showarrow": false,
          "text": "3/20",
          "x": 0.05,
          "xanchor": "right",
          "xref": "x domain",
          "y": 0.15,
          "yanchor": "bottom",
          "yref": "y"
         }
        ],
        "shapes": [
         {
          "line": {
           "color": "purple"
          },
          "opacity": 0.2,
          "type": "line",
          "x0": 0,
          "x1": 1,
          "xref": "x domain",
          "y0": 0.5,
          "y1": 0.5,
          "yref": "y"
         },
         {
          "line": {
           "color": "purple"
          },
          "opacity": 0.2,
          "type": "line",
          "x0": 0,
          "x1": 1,
          "xref": "x domain",
          "y0": 0.6666666666666666,
          "y1": 0.6666666666666666,
          "yref": "y"
         },
         {
          "line": {
           "color": "purple"
          },
          "opacity": 0.2,
          "type": "line",
          "x0": 0,
          "x1": 1,
          "xref": "x domain",
          "y0": 0.4,
          "y1": 0.4,
          "yref": "y"
         },
         {
          "line": {
           "color": "purple"
          },
          "opacity": 0.2,
          "type": "line",
          "x0": 0,
          "x1": 1,
          "xref": "x domain",
          "y0": 0.3333333333333333,
          "y1": 0.3333333333333333,
          "yref": "y"
         },
         {
          "line": {
           "color": "purple"
          },
          "opacity": 0.2,
          "type": "line",
          "x0": 0,
          "x1": 1,
          "xref": "x domain",
          "y0": 0.2857142857142857,
          "y1": 0.2857142857142857,
          "yref": "y"
         },
         {
          "line": {
           "color": "blue"
          },
          "opacity": 0.2,
          "type": "line",
          "x0": 0,
          "x1": 1,
          "xref": "x domain",
          "y0": 0.8333333333333334,
          "y1": 0.8333333333333334,
          "yref": "y"
         },
         {
          "line": {
           "color": "blue"
          },
          "opacity": 0.2,
          "type": "line",
          "x0": 0,
          "x1": 1,
          "xref": "x domain",
          "y0": 0.8,
          "y1": 0.8,
          "yref": "y"
         },
         {
          "line": {
           "color": "blue"
          },
          "opacity": 0.2,
          "type": "line",
          "x0": 0,
          "x1": 1,
          "xref": "x domain",
          "y0": 0.75,
          "y1": 0.75,
          "yref": "y"
         },
         {
          "line": {
           "color": "blue"
          },
          "opacity": 0.2,
          "type": "line",
          "x0": 0,
          "x1": 1,
          "xref": "x domain",
          "y0": 0.375,
          "y1": 0.375,
          "yref": "y"
         },
         {
          "line": {
           "color": "blue"
          },
          "opacity": 0.2,
          "type": "line",
          "x0": 0,
          "x1": 1,
          "xref": "x domain",
          "y0": 0.25,
          "y1": 0.25,
          "yref": "y"
         },
         {
          "line": {
           "color": "blue"
          },
          "opacity": 0.2,
          "type": "line",
          "x0": 0,
          "x1": 1,
          "xref": "x domain",
          "y0": 0.15,
          "y1": 0.15,
          "yref": "y"
         }
        ],
        "showlegend": false,
        "template": {
         "data": {
          "bar": [
           {
            "error_x": {
             "color": "#2a3f5f"
            },
            "error_y": {
             "color": "#2a3f5f"
            },
            "marker": {
             "line": {
              "color": "#E5ECF6",
              "width": 0.5
             },
             "pattern": {
              "fillmode": "overlay",
              "size": 10,
              "solidity": 0.2
             }
            },
            "type": "bar"
           }
          ],
          "barpolar": [
           {
            "marker": {
             "line": {
              "color": "#E5ECF6",
              "width": 0.5
             },
             "pattern": {
              "fillmode": "overlay",
              "size": 10,
              "solidity": 0.2
             }
            },
            "type": "barpolar"
           }
          ],
          "carpet": [
           {
            "aaxis": {
             "endlinecolor": "#2a3f5f",
             "gridcolor": "white",
             "linecolor": "white",
             "minorgridcolor": "white",
             "startlinecolor": "#2a3f5f"
            },
            "baxis": {
             "endlinecolor": "#2a3f5f",
             "gridcolor": "white",
             "linecolor": "white",
             "minorgridcolor": "white",
             "startlinecolor": "#2a3f5f"
            },
            "type": "carpet"
           }
          ],
          "choropleth": [
           {
            "colorbar": {
             "outlinewidth": 0,
             "ticks": ""
            },
            "type": "choropleth"
           }
          ],
          "contour": [
           {
            "colorbar": {
             "outlinewidth": 0,
             "ticks": ""
            },
            "colorscale": [
             [
              0,
              "#0d0887"
             ],
             [
              0.1111111111111111,
              "#46039f"
             ],
             [
              0.2222222222222222,
              "#7201a8"
             ],
             [
              0.3333333333333333,
              "#9c179e"
             ],
             [
              0.4444444444444444,
              "#bd3786"
             ],
             [
              0.5555555555555556,
              "#d8576b"
             ],
             [
              0.6666666666666666,
              "#ed7953"
             ],
             [
              0.7777777777777778,
              "#fb9f3a"
             ],
             [
              0.8888888888888888,
              "#fdca26"
             ],
             [
              1,
              "#f0f921"
             ]
            ],
            "type": "contour"
           }
          ],
          "contourcarpet": [
           {
            "colorbar": {
             "outlinewidth": 0,
             "ticks": ""
            },
            "type": "contourcarpet"
           }
          ],
          "heatmap": [
           {
            "colorbar": {
             "outlinewidth": 0,
             "ticks": ""
            },
            "colorscale": [
             [
              0,
              "#0d0887"
             ],
             [
              0.1111111111111111,
              "#46039f"
             ],
             [
              0.2222222222222222,
              "#7201a8"
             ],
             [
              0.3333333333333333,
              "#9c179e"
             ],
             [
              0.4444444444444444,
              "#bd3786"
             ],
             [
              0.5555555555555556,
              "#d8576b"
             ],
             [
              0.6666666666666666,
              "#ed7953"
             ],
             [
              0.7777777777777778,
              "#fb9f3a"
             ],
             [
              0.8888888888888888,
              "#fdca26"
             ],
             [
              1,
              "#f0f921"
             ]
            ],
            "type": "heatmap"
           }
          ],
          "heatmapgl": [
           {
            "colorbar": {
             "outlinewidth": 0,
             "ticks": ""
            },
            "colorscale": [
             [
              0,
              "#0d0887"
             ],
             [
              0.1111111111111111,
              "#46039f"
             ],
             [
              0.2222222222222222,
              "#7201a8"
             ],
             [
              0.3333333333333333,
              "#9c179e"
             ],
             [
              0.4444444444444444,
              "#bd3786"
             ],
             [
              0.5555555555555556,
              "#d8576b"
             ],
             [
              0.6666666666666666,
              "#ed7953"
             ],
             [
              0.7777777777777778,
              "#fb9f3a"
             ],
             [
              0.8888888888888888,
              "#fdca26"
             ],
             [
              1,
              "#f0f921"
             ]
            ],
            "type": "heatmapgl"
           }
          ],
          "histogram": [
           {
            "marker": {
             "pattern": {
              "fillmode": "overlay",
              "size": 10,
              "solidity": 0.2
             }
            },
            "type": "histogram"
           }
          ],
          "histogram2d": [
           {
            "colorbar": {
             "outlinewidth": 0,
             "ticks": ""
            },
            "colorscale": [
             [
              0,
              "#0d0887"
             ],
             [
              0.1111111111111111,
              "#46039f"
             ],
             [
              0.2222222222222222,
              "#7201a8"
             ],
             [
              0.3333333333333333,
              "#9c179e"
             ],
             [
              0.4444444444444444,
              "#bd3786"
             ],
             [
              0.5555555555555556,
              "#d8576b"
             ],
             [
              0.6666666666666666,
              "#ed7953"
             ],
             [
              0.7777777777777778,
              "#fb9f3a"
             ],
             [
              0.8888888888888888,
              "#fdca26"
             ],
             [
              1,
              "#f0f921"
             ]
            ],
            "type": "histogram2d"
           }
          ],
          "histogram2dcontour": [
           {
            "colorbar": {
             "outlinewidth": 0,
             "ticks": ""
            },
            "colorscale": [
             [
              0,
              "#0d0887"
             ],
             [
              0.1111111111111111,
              "#46039f"
             ],
             [
              0.2222222222222222,
              "#7201a8"
             ],
             [
              0.3333333333333333,
              "#9c179e"
             ],
             [
              0.4444444444444444,
              "#bd3786"
             ],
             [
              0.5555555555555556,
              "#d8576b"
             ],
             [
              0.6666666666666666,
              "#ed7953"
             ],
             [
              0.7777777777777778,
              "#fb9f3a"
             ],
             [
              0.8888888888888888,
              "#fdca26"
             ],
             [
              1,
              "#f0f921"
             ]
            ],
            "type": "histogram2dcontour"
           }
          ],
          "mesh3d": [
           {
            "colorbar": {
             "outlinewidth": 0,
             "ticks": ""
            },
            "type": "mesh3d"
           }
          ],
          "parcoords": [
           {
            "line": {
             "colorbar": {
              "outlinewidth": 0,
              "ticks": ""
             }
            },
            "type": "parcoords"
           }
          ],
          "pie": [
           {
            "automargin": true,
            "type": "pie"
           }
          ],
          "scatter": [
           {
            "fillpattern": {
             "fillmode": "overlay",
             "size": 10,
             "solidity": 0.2
            },
            "type": "scatter"
           }
          ],
          "scatter3d": [
           {
            "line": {
             "colorbar": {
              "outlinewidth": 0,
              "ticks": ""
             }
            },
            "marker": {
             "colorbar": {
              "outlinewidth": 0,
              "ticks": ""
             }
            },
            "type": "scatter3d"
           }
          ],
          "scattercarpet": [
           {
            "marker": {
             "colorbar": {
              "outlinewidth": 0,
              "ticks": ""
             }
            },
            "type": "scattercarpet"
           }
          ],
          "scattergeo": [
           {
            "marker": {
             "colorbar": {
              "outlinewidth": 0,
              "ticks": ""
             }
            },
            "type": "scattergeo"
           }
          ],
          "scattergl": [
           {
            "marker": {
             "colorbar": {
              "outlinewidth": 0,
              "ticks": ""
             }
            },
            "type": "scattergl"
           }
          ],
          "scattermapbox": [
           {
            "marker": {
             "colorbar": {
              "outlinewidth": 0,
              "ticks": ""
             }
            },
            "type": "scattermapbox"
           }
          ],
          "scatterpolar": [
           {
            "marker": {
             "colorbar": {
              "outlinewidth": 0,
              "ticks": ""
             }
            },
            "type": "scatterpolar"
           }
          ],
          "scatterpolargl": [
           {
            "marker": {
             "colorbar": {
              "outlinewidth": 0,
              "ticks": ""
             }
            },
            "type": "scatterpolargl"
           }
          ],
          "scatterternary": [
           {
            "marker": {
             "colorbar": {
              "outlinewidth": 0,
              "ticks": ""
             }
            },
            "type": "scatterternary"
           }
          ],
          "surface": [
           {
            "colorbar": {
             "outlinewidth": 0,
             "ticks": ""
            },
            "colorscale": [
             [
              0,
              "#0d0887"
             ],
             [
              0.1111111111111111,
              "#46039f"
             ],
             [
              0.2222222222222222,
              "#7201a8"
             ],
             [
              0.3333333333333333,
              "#9c179e"
             ],
             [
              0.4444444444444444,
              "#bd3786"
             ],
             [
              0.5555555555555556,
              "#d8576b"
             ],
             [
              0.6666666666666666,
              "#ed7953"
             ],
             [
              0.7777777777777778,
              "#fb9f3a"
             ],
             [
              0.8888888888888888,
              "#fdca26"
             ],
             [
              1,
              "#f0f921"
             ]
            ],
            "type": "surface"
           }
          ],
          "table": [
           {
            "cells": {
             "fill": {
              "color": "#EBF0F8"
             },
             "line": {
              "color": "white"
             }
            },
            "header": {
             "fill": {
              "color": "#C8D4E3"
             },
             "line": {
              "color": "white"
             }
            },
            "type": "table"
           }
          ]
         },
         "layout": {
          "annotationdefaults": {
           "arrowcolor": "#2a3f5f",
           "arrowhead": 0,
           "arrowwidth": 1
          },
          "autotypenumbers": "strict",
          "coloraxis": {
           "colorbar": {
            "outlinewidth": 0,
            "ticks": ""
           }
          },
          "colorscale": {
           "diverging": [
            [
             0,
             "#8e0152"
            ],
            [
             0.1,
             "#c51b7d"
            ],
            [
             0.2,
             "#de77ae"
            ],
            [
             0.3,
             "#f1b6da"
            ],
            [
             0.4,
             "#fde0ef"
            ],
            [
             0.5,
             "#f7f7f7"
            ],
            [
             0.6,
             "#e6f5d0"
            ],
            [
             0.7,
             "#b8e186"
            ],
            [
             0.8,
             "#7fbc41"
            ],
            [
             0.9,
             "#4d9221"
            ],
            [
             1,
             "#276419"
            ]
           ],
           "sequential": [
            [
             0,
             "#0d0887"
            ],
            [
             0.1111111111111111,
             "#46039f"
            ],
            [
             0.2222222222222222,
             "#7201a8"
            ],
            [
             0.3333333333333333,
             "#9c179e"
            ],
            [
             0.4444444444444444,
             "#bd3786"
            ],
            [
             0.5555555555555556,
             "#d8576b"
            ],
            [
             0.6666666666666666,
             "#ed7953"
            ],
            [
             0.7777777777777778,
             "#fb9f3a"
            ],
            [
             0.8888888888888888,
             "#fdca26"
            ],
            [
             1,
             "#f0f921"
            ]
           ],
           "sequentialminus": [
            [
             0,
             "#0d0887"
            ],
            [
             0.1111111111111111,
             "#46039f"
            ],
            [
             0.2222222222222222,
             "#7201a8"
            ],
            [
             0.3333333333333333,
             "#9c179e"
            ],
            [
             0.4444444444444444,
             "#bd3786"
            ],
            [
             0.5555555555555556,
             "#d8576b"
            ],
            [
             0.6666666666666666,
             "#ed7953"
            ],
            [
             0.7777777777777778,
             "#fb9f3a"
            ],
            [
             0.8888888888888888,
             "#fdca26"
            ],
            [
             1,
             "#f0f921"
            ]
           ]
          },
          "colorway": [
           "#636efa",
           "#EF553B",
           "#00cc96",
           "#ab63fa",
           "#FFA15A",
           "#19d3f3",
           "#FF6692",
           "#B6E880",
           "#FF97FF",
           "#FECB52"
          ],
          "font": {
           "color": "#2a3f5f"
          },
          "geo": {
           "bgcolor": "white",
           "lakecolor": "white",
           "landcolor": "#E5ECF6",
           "showlakes": true,
           "showland": true,
           "subunitcolor": "white"
          },
          "hoverlabel": {
           "align": "left"
          },
          "hovermode": "closest",
          "mapbox": {
           "style": "light"
          },
          "paper_bgcolor": "white",
          "plot_bgcolor": "#E5ECF6",
          "polar": {
           "angularaxis": {
            "gridcolor": "white",
            "linecolor": "white",
            "ticks": ""
           },
           "bgcolor": "#E5ECF6",
           "radialaxis": {
            "gridcolor": "white",
            "linecolor": "white",
            "ticks": ""
           }
          },
          "scene": {
           "xaxis": {
            "backgroundcolor": "#E5ECF6",
            "gridcolor": "white",
            "gridwidth": 2,
            "linecolor": "white",
            "showbackground": true,
            "ticks": "",
            "zerolinecolor": "white"
           },
           "yaxis": {
            "backgroundcolor": "#E5ECF6",
            "gridcolor": "white",
            "gridwidth": 2,
            "linecolor": "white",
            "showbackground": true,
            "ticks": "",
            "zerolinecolor": "white"
           },
           "zaxis": {
            "backgroundcolor": "#E5ECF6",
            "gridcolor": "white",
            "gridwidth": 2,
            "linecolor": "white",
            "showbackground": true,
            "ticks": "",
            "zerolinecolor": "white"
           }
          },
          "shapedefaults": {
           "line": {
            "color": "#2a3f5f"
           }
          },
          "ternary": {
           "aaxis": {
            "gridcolor": "white",
            "linecolor": "white",
            "ticks": ""
           },
           "baxis": {
            "gridcolor": "white",
            "linecolor": "white",
            "ticks": ""
           },
           "bgcolor": "#E5ECF6",
           "caxis": {
            "gridcolor": "white",
            "linecolor": "white",
            "ticks": ""
           }
          },
          "title": {
           "x": 0.05
          },
          "xaxis": {
           "automargin": true,
           "gridcolor": "white",
           "linecolor": "white",
           "ticks": "",
           "title": {
            "standoff": 15
           },
           "zerolinecolor": "white",
           "zerolinewidth": 2
          },
          "yaxis": {
           "automargin": true,
           "gridcolor": "white",
           "linecolor": "white",
           "ticks": "",
           "title": {
            "standoff": 15
           },
           "zerolinecolor": "white",
           "zerolinewidth": 2
          }
         }
        },
        "xaxis": {
         "showgrid": false,
         "title": {
          "text": "1/(1-S)"
         },
         "type": "log"
        },
        "yaxis": {
         "showgrid": false
        }
       }
      }
     },
     "metadata": {},
     "output_type": "display_data"
    }
   ],
   "source": [
    "from toy_models_of_superposition.figures import dimensionality_figure\n",
    "dimensionality_figure(model)"
   ]
  }
 ],
 "metadata": {
  "kernelspec": {
   "display_name": "pytorch",
   "language": "python",
   "name": "python3"
  },
  "language_info": {
   "codemirror_mode": {
    "name": "ipython",
    "version": 3
   },
   "file_extension": ".py",
   "mimetype": "text/x-python",
   "name": "python",
   "nbconvert_exporter": "python",
   "pygments_lexer": "ipython3",
   "version": "3.10.8"
  },
  "orig_nbformat": 4
 },
 "nbformat": 4,
 "nbformat_minor": 2
}
